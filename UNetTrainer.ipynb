{
 "cells": [
  {
   "cell_type": "code",
   "execution_count": null,
   "metadata": {},
   "outputs": [
    {
     "data": {
      "text/plain": [
       "\"\\nbinary_image, quantity = binaryImg('img2.png', 'mask2.png', 500)\\n\""
      ]
     },
     "execution_count": 5,
     "metadata": {},
     "output_type": "execute_result"
    }
   ],
   "source": [
    "import cv2 as cv\n",
    "import numpy as np\n",
    "def binaryImg(imgPath, maskPath, precision):\n",
    "    img = cv.imread(imgPath) \n",
    "    mask = cv.imread(maskPath)\n",
    "    gray_mask = cv.cvtColor(mask, cv.COLOR_BGR2GRAY)\n",
    "\n",
    "    _, threshold_image = cv.threshold(gray_mask, 127, 255, cv.THRESH_BINARY)\n",
    "    height, width = threshold_image.shape\n",
    "\n",
    "\n",
    "    contours, _ = cv.findContours(threshold_image, cv.RETR_TREE, cv.CHAIN_APPROX_SIMPLE )\n",
    "\n",
    "\n",
    "    # User sets minimum area that detected contours can be\n",
    "    min_area = precision\n",
    "    filtered_contours = []\n",
    "    filtered_out_contours = []\n",
    "    for c in contours: \n",
    "        if cv.contourArea(c) > min_area and cv.contourArea(c) < (height - 50) * (width - 50):\n",
    "            filtered_contours.append(c)\n",
    "        else:\n",
    "            filtered_out_contours.append(c)\n",
    "\n",
    "    \n",
    "    zero_image = np.zeros((height, width), dtype=np.uint8)\n",
    "\n",
    "    # Draws contours onto zero image\n",
    "    cv.drawContours(zero_image, filtered_contours, -1, color=2, thickness=cv.FILLED)\n",
    "\n",
    "    for contour in filtered_contours:\n",
    "        x, y, w, h = cv.boundingRect(contour)\n",
    "        seed_point = (x + w // 2, y + h // 2)\n",
    "        cv.floodFill(zero_image, None, seed_point, newVal=1)\n",
    "\n",
    "    return zero_image\n",
    "\n",
    "'''\n",
    "binary_image, quantity = binaryImg('img2.png', 'mask2.png', 500)\n",
    "'''\n",
    "\n",
    "\n",
    "\n",
    "\n",
    "    \n"
   ]
  }
 ],
 "metadata": {
  "kernelspec": {
   "display_name": "myenv",
   "language": "python",
   "name": "python3"
  },
  "language_info": {
   "codemirror_mode": {
    "name": "ipython",
    "version": 3
   },
   "file_extension": ".py",
   "mimetype": "text/x-python",
   "name": "python",
   "nbconvert_exporter": "python",
   "pygments_lexer": "ipython3",
   "version": "3.9.6"
  }
 },
 "nbformat": 4,
 "nbformat_minor": 2
}
