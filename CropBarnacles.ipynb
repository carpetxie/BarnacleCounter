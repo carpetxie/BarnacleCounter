{
 "cells": [
  {
   "cell_type": "code",
   "execution_count": null,
   "metadata": {},
   "outputs": [
    {
     "data": {
      "text/plain": [
       "\"\\nimg, x, y, w, h= Crop('img2.png')\\ncv.imshow('exmaple', img)\\ncv.waitKey(0)\\ncv.destroyAllWindows\\n\""
      ]
     },
     "execution_count": 1,
     "metadata": {},
     "output_type": "execute_result"
    }
   ],
   "source": [
    "import cv2 as cv\n",
    "import numpy as np\n",
    "def Crop(fileName):\n",
    "\n",
    "    image = cv.imread(fileName)\n",
    "    hsv_image = cv.cvtColor(image, cv.COLOR_BGR2HSV)\n",
    "\n",
    "    # Create mask\n",
    "    lower_green = np.array([50, 50, 50])\n",
    "    upper_green = np.array([130, 255, 255])\n",
    "    mask = cv.inRange(hsv_image, lower_green, upper_green)\n",
    "\n",
    "    # Find contours within mask\n",
    "    contours, _= cv.findContours(mask, cv.RETR_TREE, cv.CHAIN_APPROX_SIMPLE)\n",
    "    contour_image = image.copy()\n",
    "\n",
    "    # Valid contours is list of list of pixels that correspond to contour\n",
    "    # Valid squares are coordinates of the contours\n",
    "\n",
    "    valid_squares = []\n",
    "    valid_contours = []\n",
    "    for i, contour in enumerate(contours):\n",
    "        epsilon = 0.01 * cv.arcLength(contour, True)\n",
    "        approx = cv.approxPolyDP(contour, epsilon, True)\n",
    "        \n",
    "        if len(approx) == 4:\n",
    "            x, y, w, h = cv.boundingRect(approx)\n",
    "            \n",
    "            aspect_ratio = float(w) / h\n",
    "            area = cv.contourArea(contour)\n",
    "            if 0.8 < aspect_ratio < 1.2 and area > 200:  \n",
    "                valid_squares.append((x, y, w, h))\n",
    "                valid_contours.append(contour)\n",
    "    max_area = 0\n",
    "    centroid_index = 0\n",
    "\n",
    "    # Finds index of the maximum contour, which is the centroid square\n",
    "    for i, n in enumerate(valid_contours):\n",
    "        area = cv.contourArea(n)\n",
    "        if area > max_area:\n",
    "            centroid_index = i\n",
    "        max_area = max(max_area, area)\n",
    "\n",
    "    \n",
    "    #contour_image = cv.drawContours(image, valid_contours, -1, (0,255,0), 2)\n",
    "\n",
    "\n",
    "    tup = valid_squares[centroid_index]\n",
    "    x,y,w,h = tup[0], tup[1], tup[2], tup[3]\n",
    "    cropped_image = image[y:y+h, x:x+w]\n",
    "\n",
    "    # Returns the input_img cropped to the centroid square, as well as the boundaries\n",
    "    return cropped_image, x, y, w, h\n",
    "\n",
    "'''\n",
    "img, x, y, w, h= Crop('img2.png')\n",
    "cv.imshow('exmaple', img)\n",
    "cv.waitKey(0)\n",
    "cv.destroyAllWindows\n",
    "'''\n"
   ]
  }
 ],
 "metadata": {
  "kernelspec": {
   "display_name": "myenv",
   "language": "python",
   "name": "python3"
  },
  "language_info": {
   "codemirror_mode": {
    "name": "ipython",
    "version": 3
   },
   "file_extension": ".py",
   "mimetype": "text/x-python",
   "name": "python",
   "nbconvert_exporter": "python",
   "pygments_lexer": "ipython3",
   "version": "3.9.6"
  }
 },
 "nbformat": 4,
 "nbformat_minor": 2
}
